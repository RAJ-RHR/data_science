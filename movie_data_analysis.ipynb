{
 "cells": [
  {
   "cell_type": "markdown",
   "id": "0e79f452",
   "metadata": {},
   "source": [
    "# 🎬 Movie Data Analysis Project\n",
    "This notebook performs data cleaning, transformation, and visualization on a movie dataset."
   ]
  },
  {
   "cell_type": "markdown",
   "id": "3db584c6",
   "metadata": {},
   "source": [
    "## 📦 Importing Libraries"
   ]
  },
  {
   "cell_type": "code",
   "execution_count": null,
   "id": "1d01dc5d",
   "metadata": {},
   "outputs": [],
   "source": [
    "import numpy as np\n",
    "import pandas as pd\n",
    "import matplotlib.pyplot as plt\n",
    "import seaborn as sns"
   ]
  },
  {
   "cell_type": "markdown",
   "id": "7584ba1e",
   "metadata": {},
   "source": [
    "## 📂 Load Dataset"
   ]
  },
  {
   "cell_type": "code",
   "execution_count": null,
   "id": "a8b34bd0",
   "metadata": {},
   "outputs": [],
   "source": [
    "df = pd.read_csv('mymoviedb.csv', lineterminator='\\n')\n",
    "df.head()"
   ]
  },
  {
   "cell_type": "markdown",
   "id": "eea49f3f",
   "metadata": {},
   "source": [
    "## ℹ️ Dataset Information"
   ]
  },
  {
   "cell_type": "code",
   "execution_count": null,
   "id": "0eef6dd5",
   "metadata": {},
   "outputs": [],
   "source": [
    "df.info()"
   ]
  },
  {
   "cell_type": "markdown",
   "id": "beae35d1",
   "metadata": {},
   "source": [
    "## 🎭 Explore Genre Column"
   ]
  },
  {
   "cell_type": "code",
   "execution_count": null,
   "id": "af2545a8",
   "metadata": {},
   "outputs": [],
   "source": [
    "df['Genre'].head()"
   ]
  },
  {
   "cell_type": "markdown",
   "id": "43e5f021",
   "metadata": {},
   "source": [
    "## 🔍 Check for Duplicates"
   ]
  },
  {
   "cell_type": "code",
   "execution_count": null,
   "id": "cd895b92",
   "metadata": {},
   "outputs": [],
   "source": [
    "df.duplicated().sum()"
   ]
  },
  {
   "cell_type": "markdown",
   "id": "e1083a7f",
   "metadata": {},
   "source": [
    "## 📊 Summary Statistics"
   ]
  },
  {
   "cell_type": "code",
   "execution_count": null,
   "id": "58d155ad",
   "metadata": {},
   "outputs": [],
   "source": [
    "df.describe()"
   ]
  },
  {
   "cell_type": "markdown",
   "id": "9fb5de94",
   "metadata": {},
   "source": [
    "## 🧹 Data Cleaning\n",
    "Convert `Release_Date` to year and drop unnecessary columns."
   ]
  },
  {
   "cell_type": "code",
   "execution_count": null,
   "id": "cf93f4bf",
   "metadata": {},
   "outputs": [],
   "source": [
    "df['Release_Date'] = pd.to_datetime(df['Release_Date'])\n",
    "df['Release_Date'] = df['Release_Date'].dt.year\n",
    "cols = ['Overview', 'Original_Language', 'Poster_Url']\n",
    "df.drop(cols, axis=1, inplace=True)\n",
    "df.head()"
   ]
  },
  {
   "cell_type": "markdown",
   "id": "ffc8eed4",
   "metadata": {},
   "source": [
    "## 🏷️ Categorize `Vote_Average` into Labels"
   ]
  },
  {
   "cell_type": "code",
   "execution_count": null,
   "id": "e9f55b10",
   "metadata": {},
   "outputs": [],
   "source": [
    "def catigorize_col(df, col, labels):\n",
    "    edges = [df[col].describe()['min'],\n",
    "             df[col].describe()['25%'],\n",
    "             df[col].describe()['50%'],\n",
    "             df[col].describe()['75%'],\n",
    "             df[col].describe()['max']]\n",
    "    df[col] = pd.cut(df[col], edges, labels=labels, duplicates='drop')\n",
    "    return df\n",
    "\n",
    "labels = ['not_popular', 'below_avg', 'average', 'popular']\n",
    "df = catigorize_col(df, 'Vote_Average', labels)\n",
    "df['Vote_Average'].value_counts()"
   ]
  },
  {
   "cell_type": "markdown",
   "id": "ea605a9a",
   "metadata": {},
   "source": [
    "## 🚫 Drop Missing Values"
   ]
  },
  {
   "cell_type": "code",
   "execution_count": null,
   "id": "d7e77beb",
   "metadata": {},
   "outputs": [],
   "source": [
    "df.dropna(inplace=True)\n",
    "df.isna().sum()"
   ]
  },
  {
   "cell_type": "markdown",
   "id": "33c5ed22",
   "metadata": {},
   "source": [
    "## 💥 Explode Genre Column"
   ]
  },
  {
   "cell_type": "code",
   "execution_count": null,
   "id": "446986c8",
   "metadata": {},
   "outputs": [],
   "source": [
    "df['Genre'] = df['Genre'].str.split(', ')\n",
    "df = df.explode('Genre').reset_index(drop=True)\n",
    "df['Genre'] = df['Genre'].astype('category')\n",
    "df.head()"
   ]
  },
  {
   "cell_type": "markdown",
   "id": "6782f076",
   "metadata": {},
   "source": [
    "## 📋 Dataset Summary After Cleaning"
   ]
  },
  {
   "cell_type": "code",
   "execution_count": null,
   "id": "f625c40f",
   "metadata": {},
   "outputs": [],
   "source": [
    "df.info()\n",
    "df.nunique()"
   ]
  },
  {
   "cell_type": "markdown",
   "id": "c02ea70a",
   "metadata": {},
   "source": [
    "## 📈 Data Visualizations"
   ]
  },
  {
   "cell_type": "markdown",
   "id": "ba7e524d",
   "metadata": {},
   "source": [
    "### 🎭 Genre Distribution"
   ]
  },
  {
   "cell_type": "code",
   "execution_count": null,
   "id": "57043842",
   "metadata": {},
   "outputs": [],
   "source": [
    "sns.set_style('whitegrid')\n",
    "sns.catplot(y='Genre', data=df, kind='count', order=df['Genre'].value_counts().index, color='#4287f5')\n",
    "plt.title('Genre Column Distribution')\n",
    "plt.show()"
   ]
  },
  {
   "cell_type": "markdown",
   "id": "3e603935",
   "metadata": {},
   "source": [
    "### ⭐ Vote Average Category Distribution"
   ]
  },
  {
   "cell_type": "code",
   "execution_count": null,
   "id": "899ece0a",
   "metadata": {},
   "outputs": [],
   "source": [
    "sns.catplot(y='Vote_Average', data=df, kind='count', order=df['Vote_Average'].value_counts().index, color='#4287f5')\n",
    "plt.title('Votes Distribution')\n",
    "plt.show()"
   ]
  },
  {
   "cell_type": "markdown",
   "id": "b73418c4",
   "metadata": {},
   "source": [
    "### 🔝 Most Popular Movie"
   ]
  },
  {
   "cell_type": "code",
   "execution_count": null,
   "id": "5827e4f4",
   "metadata": {},
   "outputs": [],
   "source": [
    "df[df['Popularity'] == df['Popularity'].max()]"
   ]
  },
  {
   "cell_type": "markdown",
   "id": "6fe051da",
   "metadata": {},
   "source": [
    "### 🔻 Least Popular Movie"
   ]
  },
  {
   "cell_type": "code",
   "execution_count": null,
   "id": "567109ea",
   "metadata": {},
   "outputs": [],
   "source": [
    "df[df['Popularity'] == df['Popularity'].min()]"
   ]
  },
  {
   "cell_type": "markdown",
   "id": "20f30493",
   "metadata": {},
   "source": [
    "### 📅 Release Year Distribution"
   ]
  },
  {
   "cell_type": "code",
   "execution_count": null,
   "id": "1d687f93",
   "metadata": {},
   "outputs": [],
   "source": [
    "df['Release_Date'].hist()\n",
    "plt.title('Release Year Distribution')\n",
    "plt.xlabel('Year')\n",
    "plt.ylabel('Number of Movies')\n",
    "plt.show()"
   ]
  }
 ],
 "metadata": {},
 "nbformat": 4,
 "nbformat_minor": 5
}
